{
  "nbformat": 4,
  "nbformat_minor": 0,
  "metadata": {
    "colab": {
      "provenance": [],
      "gpuType": "T4"
    },
    "kernelspec": {
      "name": "python3",
      "display_name": "Python 3"
    },
    "language_info": {
      "name": "python"
    },
    "accelerator": "GPU"
  },
  "cells": [
    {
      "cell_type": "code",
      "execution_count": 9,
      "metadata": {
        "id": "QFjc8nS6ctJW"
      },
      "outputs": [],
      "source": [
        "import pandas as pd\n",
        "data = pd.read_csv('/content/block.csv')"
      ]
    },
    {
      "cell_type": "markdown",
      "source": [
        "### Dataset"
      ],
      "metadata": {
        "id": "Ry-cfpeZ_6ma"
      }
    },
    {
      "cell_type": "code",
      "source": [
        "# Dropping rows with any missing values\n",
        "data_dropped = data.dropna()\n",
        "\n",
        "# Filling the remaining missing values with a specific value, for example, filling NaNs with 0\n",
        "data_processed = data_dropped.fillna(0)\n",
        "\n",
        "# Displaying the processed data\n",
        "print(data_processed.head())"
      ],
      "metadata": {
        "colab": {
          "base_uri": "https://localhost:8080/"
        },
        "id": "y99cmqnElnHH",
        "outputId": "c0db467b-655b-47e3-8188-acd54341b8b9"
      },
      "execution_count": 10,
      "outputs": [
        {
          "output_type": "stream",
          "name": "stdout",
          "text": [
            "  member_name                     email  gender   location   employer  \\\n",
            "0       Chipi        ajimmison0@sun.com  female     Kwekwe       Vipe   \n",
            "1       Femba     rsoonhouse1@google.it  female  Marondera       Mudo   \n",
            "2        Geta  bchecchetelli2@house.gov  female     Rusape     Skaboo   \n",
            "3    Tichaona          mgarman3@psu.edu  female     Rusape  Babbleset   \n",
            "4       Chisa     ccough4@biglobe.ne.jp  female   Bulawayo   Flipopia   \n",
            "\n",
            "  relationship patient_name  patient_suffix patient_dob  \\\n",
            "0  Grandfather      Mabhena             789  09-11-1997   \n",
            "1      Husband      Sithole             860   1/14/1992   \n",
            "2       Mother        Chipi             374  07-03-1999   \n",
            "3       Father       Jembwa             729   7/31/1978   \n",
            "4       Father         Foto             716  12/28/1992   \n",
            "\n",
            "                   cause  Fee_Charged  membership_period  number_of_claims  \\\n",
            "0                  Other         3798               1541                 2   \n",
            "1                  Other        48905               8269                 4   \n",
            "2  Road Traffic Accident        39963               6223                 2   \n",
            "3  Road Traffic Accident        34948               8832                 6   \n",
            "4       Accident At Work        46984               8804                 1   \n",
            "\n",
            "   number_of_dependants  label  \n",
            "0                     4      0  \n",
            "1                     3      0  \n",
            "2                     2      0  \n",
            "3                     3      0  \n",
            "4                     2      1  \n"
          ]
        }
      ]
    },
    {
      "cell_type": "markdown",
      "source": [
        "### Feature Extraction using PCA"
      ],
      "metadata": {
        "id": "ZP75F4Zg_zlq"
      }
    },
    {
      "cell_type": "code",
      "source": [
        "import pandas as pd\n",
        "from sklearn.decomposition import PCA\n",
        "from sklearn.preprocessing import StandardScaler"
      ],
      "metadata": {
        "id": "MJcV_eQinUsL"
      },
      "execution_count": 11,
      "outputs": []
    },
    {
      "cell_type": "code",
      "source": [
        "# Extract the numeric columns for feature extraction\n",
        "numeric_columns = ['patient_suffix','Fee_Charged','membership_period','number_of_claims','number_of_dependants','label']\n",
        "\n",
        "# Select the numeric columns for feature extraction\n",
        "X = data[numeric_columns]\n",
        "\n",
        "# Apply feature scaling\n",
        "scaler = StandardScaler()\n",
        "X_scaled = scaler.fit_transform(X)\n",
        "\n",
        "# Apply PCA for dimensionality reduction\n",
        "num_components = 5\n",
        "pca = PCA(n_components=num_components)\n",
        "X_pca = pca.fit_transform(X_scaled)\n",
        "\n",
        "# Create a DataFrame with the extracted PCA features\n",
        "pca_columns = [f'PCA_{i+1}' for i in range(num_components)]\n",
        "pca_df = pd.DataFrame(data=X_pca, columns=pca_columns)\n",
        "\n",
        "# Define meaningful names for the actual columns\n",
        "actual_column_names = ['patient_suffix','Fee_Charged','membership_period','number_of_claims','number_of_dependants','label']\n",
        "\n",
        "# Define the mapping of PCA feature columns to actual names based on their index\n",
        "pca_feature_mapping = {\n",
        "    pca_columns[i]: actual_column_names[i] + '_PCA' for i in range(num_components)\n",
        "}\n",
        "\n",
        "\n",
        "pca_df.rename(columns=pca_feature_mapping, inplace=True)\n",
        "\n",
        "final_df_with_actual_names = pd.concat([data, pca_df], axis=1)\n",
        "\n",
        "print(\"Final DataFrame with actual column names for PCA features:\")\n",
        "print(final_df_with_actual_names.head())\n"
      ],
      "metadata": {
        "colab": {
          "base_uri": "https://localhost:8080/"
        },
        "id": "30F0jz66nQxR",
        "outputId": "2bb6e51e-de07-43b3-f140-2435240639c7"
      },
      "execution_count": 12,
      "outputs": [
        {
          "output_type": "stream",
          "name": "stdout",
          "text": [
            "Final DataFrame with actual column names for PCA features:\n",
            "  member_name                     email  gender   location   employer  \\\n",
            "0       Chipi        ajimmison0@sun.com  female     Kwekwe       Vipe   \n",
            "1       Femba     rsoonhouse1@google.it  female  Marondera       Mudo   \n",
            "2        Geta  bchecchetelli2@house.gov  female     Rusape     Skaboo   \n",
            "3    Tichaona          mgarman3@psu.edu  female     Rusape  Babbleset   \n",
            "4       Chisa     ccough4@biglobe.ne.jp  female   Bulawayo   Flipopia   \n",
            "\n",
            "  relationship patient_name  patient_suffix patient_dob  \\\n",
            "0  Grandfather      Mabhena             789  09-11-1997   \n",
            "1      Husband      Sithole             860   1/14/1992   \n",
            "2       Mother        Chipi             374  07-03-1999   \n",
            "3       Father       Jembwa             729   7/31/1978   \n",
            "4       Father         Foto             716  12/28/1992   \n",
            "\n",
            "                   cause  Fee_Charged  membership_period  number_of_claims  \\\n",
            "0                  Other         3798               1541                 2   \n",
            "1                  Other        48905               8269                 4   \n",
            "2  Road Traffic Accident        39963               6223                 2   \n",
            "3  Road Traffic Accident        34948               8832                 6   \n",
            "4       Accident At Work        46984               8804                 1   \n",
            "\n",
            "   number_of_dependants  label  patient_suffix_PCA  Fee_Charged_PCA  \\\n",
            "0                     4      0           -2.470795         0.533099   \n",
            "1                     3      0            0.670615        -0.188674   \n",
            "2                     2      0            1.066120         0.752910   \n",
            "3                     3      0            0.300790        -1.102002   \n",
            "4                     2      1            2.345037         0.717004   \n",
            "\n",
            "   membership_period_PCA  number_of_claims_PCA  number_of_dependants_PCA  \n",
            "0               0.586079             -0.624312                  0.261783  \n",
            "1              -0.918131             -1.077263                 -1.221584  \n",
            "2              -0.954638             -0.362938                 -0.369856  \n",
            "3              -1.221016             -0.068508                 -0.502278  \n",
            "4               0.553252             -2.008591                  0.636738  \n"
          ]
        }
      ]
    },
    {
      "cell_type": "markdown",
      "source": [
        "### Feature selection using RFE"
      ],
      "metadata": {
        "id": "yJp-8l92_swQ"
      }
    },
    {
      "cell_type": "code",
      "source": [
        "from sklearn.feature_selection import RFE\n",
        "from sklearn.ensemble import RandomForestClassifier\n",
        "\n",
        "# Assuming 'final_df_with_actual_names' contains the DataFrame after PCA and feature concatenation\n",
        "\n",
        "# Extract only numeric columns for feature selection\n",
        "numeric_columns = final_df_with_actual_names.select_dtypes(include=['float64', 'int64']).columns\n",
        "features = final_df_with_actual_names[numeric_columns]\n",
        "\n",
        "# Remove the target column from features if it's included\n",
        "target_column = 'label'\n",
        "if target_column in features:\n",
        "    features = features.drop(columns=[target_column])\n",
        "\n",
        "# Initialize the model for feature selection (Random Forest Classifier)\n",
        "model = RandomForestClassifier()\n",
        "\n",
        "# Initialize Recursive Feature Elimination (RFE)\n",
        "num_features_to_select = 3  # Number of features to select\n",
        "rfe = RFE(model, n_features_to_select=num_features_to_select)\n",
        "\n",
        "# Fit RFE to the data\n",
        "rfe.fit(features, final_df_with_actual_names[target_column])\n",
        "\n",
        "# Get the selected features\n",
        "selected_features = features.columns[rfe.support_]\n",
        "\n",
        "selected_features_data = final_df_with_actual_names[selected_features]\n",
        "\n",
        "# Print selected features along with their values\n",
        "print(selected_features_data)"
      ],
      "metadata": {
        "colab": {
          "base_uri": "https://localhost:8080/"
        },
        "id": "DbRC2_V9pofp",
        "outputId": "f5b31058-aa5f-47af-cab8-0eebb691a8a0"
      },
      "execution_count": 13,
      "outputs": [
        {
          "output_type": "stream",
          "name": "stdout",
          "text": [
            "      patient_suffix_PCA  membership_period_PCA  number_of_dependants_PCA\n",
            "0              -2.470795               0.586079                  0.261783\n",
            "1               0.670615              -0.918131                 -1.221584\n",
            "2               1.066120              -0.954638                 -0.369856\n",
            "3               0.300790              -1.221016                 -0.502278\n",
            "4               2.345037               0.553252                  0.636738\n",
            "...                  ...                    ...                       ...\n",
            "6995           -0.244741              -0.810280                 -0.038120\n",
            "6996            0.719844               0.293486                 -0.581801\n",
            "6997            0.553308              -0.867162                  0.200764\n",
            "6998            1.399607               0.291712                  1.412718\n",
            "6999           -0.984866              -0.161180                 -0.468776\n",
            "\n",
            "[7000 rows x 3 columns]\n"
          ]
        }
      ]
    },
    {
      "cell_type": "code",
      "source": [
        "!pip install scikit-multiflow"
      ],
      "metadata": {
        "colab": {
          "base_uri": "https://localhost:8080/"
        },
        "id": "308BBIJRsXQj",
        "outputId": "087c096b-dbe3-4bfe-caea-99b7c44203db"
      },
      "execution_count": 14,
      "outputs": [
        {
          "output_type": "stream",
          "name": "stdout",
          "text": [
            "Requirement already satisfied: scikit-multiflow in /usr/local/lib/python3.10/dist-packages (0.5.3)\n",
            "Requirement already satisfied: sortedcontainers>=1.5.7 in /usr/local/lib/python3.10/dist-packages (from scikit-multiflow) (2.4.0)\n",
            "Requirement already satisfied: numpy>=1.14.0 in /usr/local/lib/python3.10/dist-packages (from scikit-multiflow) (1.23.5)\n",
            "Requirement already satisfied: scipy>=1.0.0 in /usr/local/lib/python3.10/dist-packages (from scikit-multiflow) (1.11.3)\n",
            "Requirement already satisfied: matplotlib>=2.0.0 in /usr/local/lib/python3.10/dist-packages (from scikit-multiflow) (3.7.1)\n",
            "Requirement already satisfied: scikit-learn>=0.20 in /usr/local/lib/python3.10/dist-packages (from scikit-multiflow) (1.2.2)\n",
            "Requirement already satisfied: pandas>=0.25.3 in /usr/local/lib/python3.10/dist-packages (from scikit-multiflow) (1.5.3)\n",
            "Requirement already satisfied: contourpy>=1.0.1 in /usr/local/lib/python3.10/dist-packages (from matplotlib>=2.0.0->scikit-multiflow) (1.2.0)\n",
            "Requirement already satisfied: cycler>=0.10 in /usr/local/lib/python3.10/dist-packages (from matplotlib>=2.0.0->scikit-multiflow) (0.12.1)\n",
            "Requirement already satisfied: fonttools>=4.22.0 in /usr/local/lib/python3.10/dist-packages (from matplotlib>=2.0.0->scikit-multiflow) (4.44.0)\n",
            "Requirement already satisfied: kiwisolver>=1.0.1 in /usr/local/lib/python3.10/dist-packages (from matplotlib>=2.0.0->scikit-multiflow) (1.4.5)\n",
            "Requirement already satisfied: packaging>=20.0 in /usr/local/lib/python3.10/dist-packages (from matplotlib>=2.0.0->scikit-multiflow) (23.2)\n",
            "Requirement already satisfied: pillow>=6.2.0 in /usr/local/lib/python3.10/dist-packages (from matplotlib>=2.0.0->scikit-multiflow) (9.4.0)\n",
            "Requirement already satisfied: pyparsing>=2.3.1 in /usr/local/lib/python3.10/dist-packages (from matplotlib>=2.0.0->scikit-multiflow) (3.1.1)\n",
            "Requirement already satisfied: python-dateutil>=2.7 in /usr/local/lib/python3.10/dist-packages (from matplotlib>=2.0.0->scikit-multiflow) (2.8.2)\n",
            "Requirement already satisfied: pytz>=2020.1 in /usr/local/lib/python3.10/dist-packages (from pandas>=0.25.3->scikit-multiflow) (2023.3.post1)\n",
            "Requirement already satisfied: joblib>=1.1.1 in /usr/local/lib/python3.10/dist-packages (from scikit-learn>=0.20->scikit-multiflow) (1.3.2)\n",
            "Requirement already satisfied: threadpoolctl>=2.0.0 in /usr/local/lib/python3.10/dist-packages (from scikit-learn>=0.20->scikit-multiflow) (3.2.0)\n",
            "Requirement already satisfied: six>=1.5 in /usr/local/lib/python3.10/dist-packages (from python-dateutil>=2.7->matplotlib>=2.0.0->scikit-multiflow) (1.16.0)\n"
          ]
        }
      ]
    },
    {
      "cell_type": "markdown",
      "source": [
        "### AdaBoost"
      ],
      "metadata": {
        "id": "Dfn3xruG_ntA"
      }
    },
    {
      "cell_type": "code",
      "source": [
        "from sklearn.ensemble import AdaBoostClassifier\n",
        "from sklearn.tree import DecisionTreeClassifier\n",
        "from sklearn.metrics import accuracy_score, confusion_matrix, mean_squared_error, mean_absolute_error\n",
        "from sklearn.model_selection import train_test_split\n",
        "\n",
        "\n",
        "# Splitting data into features and target\n",
        "X = final_df_with_actual_names[selected_features]\n",
        "y = final_df_with_actual_names['label']\n",
        "\n",
        "# Splitting the data into train and test sets\n",
        "X_train, X_test, y_train, y_test = train_test_split(X, y, test_size=0.2, random_state=42)\n",
        "\n",
        "# Initialize Decision Tree classifier\n",
        "tree_classifier = DecisionTreeClassifier()\n",
        "\n",
        "# Initialize AdaBoost with DecisionTree as base classifier\n",
        "adaboost_classifier = AdaBoostClassifier(base_estimator=tree_classifier, n_estimators=50, learning_rate=1.0)\n",
        "\n",
        "# Train the classifier\n",
        "adaboost_classifier.fit(X_train, y_train)\n",
        "\n",
        "# Predict using the trained AdaBoost classifier\n",
        "predictions = adaboost_classifier.predict(X_test)\n",
        "\n",
        "# Calculate accuracy\n",
        "accuracy = accuracy_score(y_test, predictions)\n",
        "\n",
        "# Calculate confusion matrix\n",
        "conf_matrix = confusion_matrix(y_test, predictions)\n",
        "\n",
        "# Calculate Sensitivity and Specificity from the confusion matrix (assuming binary classification)\n",
        "true_negatives, false_positives, false_negatives, true_positives = conf_matrix.ravel()\n",
        "\n",
        "sensitivity = true_positives / (true_positives + false_negatives)\n",
        "specificity = true_negatives / (true_negatives + false_positives)\n",
        "\n",
        "# Calculate Root Mean Squared Error (RMSE) and Mean Absolute Error (MAE)\n",
        "rmse = mean_squared_error(y_test, predictions, squared=False)\n",
        "mae = mean_absolute_error(y_test, predictions)\n",
        "\n",
        "print(\"Accuracy:\", accuracy)\n",
        "print(\"Sensitivity:\", sensitivity)\n",
        "print(\"Specificity:\", specificity)\n",
        "print(\"Root Mean Squared Error (RMSE):\", rmse)\n",
        "print(\"Mean Absolute Error (MAE):\", mae)\n"
      ],
      "metadata": {
        "colab": {
          "base_uri": "https://localhost:8080/"
        },
        "id": "JYZGDfcJzPGx",
        "outputId": "ed54d26e-7ad2-413a-aa5b-38c6601b068d"
      },
      "execution_count": 15,
      "outputs": [
        {
          "output_type": "stream",
          "name": "stdout",
          "text": [
            "Accuracy: 0.995\n",
            "Sensitivity: 0.9851301115241635\n",
            "Specificity: 0.9973474801061007\n",
            "Root Mean Squared Error (RMSE): 0.07071067811865475\n",
            "Mean Absolute Error (MAE): 0.005\n"
          ]
        },
        {
          "output_type": "stream",
          "name": "stderr",
          "text": [
            "/usr/local/lib/python3.10/dist-packages/sklearn/ensemble/_base.py:166: FutureWarning: `base_estimator` was renamed to `estimator` in version 1.2 and will be removed in 1.4.\n",
            "  warnings.warn(\n"
          ]
        }
      ]
    },
    {
      "cell_type": "markdown",
      "source": [
        "### DecisionTree"
      ],
      "metadata": {
        "id": "tmR7liSK_dyE"
      }
    },
    {
      "cell_type": "code",
      "source": [
        "from sklearn.tree import DecisionTreeClassifier\n",
        "from sklearn.model_selection import train_test_split\n",
        "from sklearn.metrics import accuracy_score, confusion_matrix, mean_squared_error, mean_absolute_error\n",
        "\n",
        "# Splitting data into features and target\n",
        "X = final_df_with_actual_names[selected_features]\n",
        "y = final_df_with_actual_names['label']\n",
        "\n",
        "# Splitting the data into train and test sets\n",
        "X_train, X_test, y_train, y_test = train_test_split(X, y, test_size=0.2, random_state=42)\n",
        "\n",
        "# Initialize Decision Tree classifier\n",
        "tree_classifier = DecisionTreeClassifier()\n",
        "\n",
        "# Train the classifier\n",
        "tree_classifier.fit(X_train, y_train)\n",
        "\n",
        "# Predict using the trained Decision Tree classifier\n",
        "predictions = tree_classifier.predict(X_test)\n",
        "\n",
        "# Calculate accuracy\n",
        "accuracy = accuracy_score(y_test, predictions)\n",
        "\n",
        "# Calculate confusion matrix\n",
        "conf_matrix = confusion_matrix(y_test, predictions)\n",
        "\n",
        "# Calculate Sensitivity and Specificity from the confusion matrix (assuming binary classification)\n",
        "true_negatives, false_positives, false_negatives, true_positives = conf_matrix.ravel()\n",
        "\n",
        "sensitivity = true_positives / (true_positives + false_negatives)\n",
        "specificity = true_negatives / (true_negatives + false_positives)\n",
        "\n",
        "# Calculate Root Mean Squared Error (RMSE) and Mean Absolute Error (MAE)\n",
        "rmse = mean_squared_error(y_test, predictions, squared=False)\n",
        "mae = mean_absolute_error(y_test, predictions)\n",
        "\n",
        "print(\"Accuracy:\", accuracy)\n",
        "print(\"Sensitivity:\", sensitivity)\n",
        "print(\"Specificity:\", specificity)\n",
        "print(\"Root Mean Squared Error (RMSE):\", rmse)\n",
        "print(\"Mean Absolute Error (MAE):\", mae)\n"
      ],
      "metadata": {
        "colab": {
          "base_uri": "https://localhost:8080/"
        },
        "id": "qnBL5kLV58x3",
        "outputId": "eb3770bf-e8d6-4ee6-8e85-7d645ecdae2f"
      },
      "execution_count": 16,
      "outputs": [
        {
          "output_type": "stream",
          "name": "stdout",
          "text": [
            "Accuracy: 0.9942857142857143\n",
            "Sensitivity: 0.9851301115241635\n",
            "Specificity: 0.9964633068081344\n",
            "Root Mean Squared Error (RMSE): 0.07559289460184544\n",
            "Mean Absolute Error (MAE): 0.005714285714285714\n"
          ]
        }
      ]
    },
    {
      "cell_type": "markdown",
      "source": [
        "### GaussianNB"
      ],
      "metadata": {
        "id": "REnpYU_n_bYw"
      }
    },
    {
      "cell_type": "code",
      "source": [
        "from sklearn.naive_bayes import GaussianNB\n",
        "from sklearn.model_selection import train_test_split\n",
        "from sklearn.metrics import accuracy_score, confusion_matrix, mean_squared_error, mean_absolute_error\n",
        "\n",
        "\n",
        "# Splitting data into features and target\n",
        "X = final_df_with_actual_names[selected_features]\n",
        "y = final_df_with_actual_names['label']\n",
        "\n",
        "# Splitting the data into train and test sets\n",
        "X_train, X_test, y_train, y_test = train_test_split(X, y, test_size=0.2, random_state=42)\n",
        "\n",
        "# Initialize Gaussian Naive Bayes classifier\n",
        "nb_classifier = GaussianNB()\n",
        "\n",
        "# Train the classifier\n",
        "nb_classifier.fit(X_train, y_train)\n",
        "\n",
        "# Predict using the trained Naive Bayes classifier\n",
        "predictions = nb_classifier.predict(X_test)\n",
        "\n",
        "# Calculate accuracy\n",
        "accuracy = accuracy_score(y_test, predictions)\n",
        "\n",
        "# Calculate confusion matrix\n",
        "conf_matrix = confusion_matrix(y_test, predictions)\n",
        "\n",
        "# Calculate Sensitivity and Specificity from the confusion matrix (assuming binary classification)\n",
        "true_negatives, false_positives, false_negatives, true_positives = conf_matrix.ravel()\n",
        "\n",
        "sensitivity = true_positives / (true_positives + false_negatives)\n",
        "specificity = true_negatives / (true_negatives + false_positives)\n",
        "\n",
        "# Calculate Root Mean Squared Error (RMSE) and Mean Absolute Error (MAE)\n",
        "rmse = mean_squared_error(y_test, predictions, squared=False)\n",
        "mae = mean_absolute_error(y_test, predictions)\n",
        "\n",
        "print(\"Accuracy:\", accuracy)\n",
        "print(\"Sensitivity:\", sensitivity)\n",
        "print(\"Specificity:\", specificity)\n",
        "print(\"Root Mean Squared Error (RMSE):\", rmse)\n",
        "print(\"Mean Absolute Error (MAE):\", mae)\n"
      ],
      "metadata": {
        "colab": {
          "base_uri": "https://localhost:8080/"
        },
        "id": "vnUHTLDR6428",
        "outputId": "71bb59aa-4d8e-4480-dd7d-7ae7f1ff5a0b"
      },
      "execution_count": 17,
      "outputs": [
        {
          "output_type": "stream",
          "name": "stdout",
          "text": [
            "Accuracy: 0.9978571428571429\n",
            "Sensitivity: 0.9888475836431226\n",
            "Specificity: 1.0\n",
            "Root Mean Squared Error (RMSE): 0.04629100498862757\n",
            "Mean Absolute Error (MAE): 0.002142857142857143\n"
          ]
        }
      ]
    },
    {
      "cell_type": "markdown",
      "source": [],
      "metadata": {
        "id": "iuUYdU7w_Vha"
      }
    },
    {
      "cell_type": "markdown",
      "source": [
        "### GradientBoosting"
      ],
      "metadata": {
        "id": "xZLkKz81_Xyr"
      }
    },
    {
      "cell_type": "code",
      "source": [
        "from sklearn.ensemble import GradientBoostingClassifier\n",
        "from sklearn.model_selection import train_test_split\n",
        "from sklearn.metrics import accuracy_score, confusion_matrix, mean_squared_error, mean_absolute_error\n",
        "\n",
        "# Assuming 'final_df_with_actual_names' contains the DataFrame after PCA and feature concatenation\n",
        "# Assuming 'selected_features' contains the selected features for modeling\n",
        "# Assuming 'label' is the target column\n",
        "\n",
        "# Splitting data into features and target\n",
        "X = final_df_with_actual_names[selected_features]\n",
        "y = final_df_with_actual_names['label']\n",
        "\n",
        "# Splitting the data into train and test sets\n",
        "X_train, X_test, y_train, y_test = train_test_split(X, y, test_size=0.2, random_state=42)\n",
        "\n",
        "# Initialize Gradient Boosting classifier\n",
        "gb_classifier = GradientBoostingClassifier(n_estimators=100, learning_rate=0.1, random_state=42)\n",
        "\n",
        "# Train the classifier\n",
        "gb_classifier.fit(X_train, y_train)\n",
        "\n",
        "# Predict using the trained Gradient Boosting classifier\n",
        "predictions = gb_classifier.predict(X_test)\n",
        "\n",
        "# Calculate accuracy\n",
        "accuracy = accuracy_score(y_test, predictions)\n",
        "\n",
        "# Calculate confusion matrix\n",
        "conf_matrix = confusion_matrix(y_test, predictions)\n",
        "\n",
        "# Calculate Sensitivity and Specificity from the confusion matrix (assuming binary classification)\n",
        "true_negatives, false_positives, false_negatives, true_positives = conf_matrix.ravel()\n",
        "\n",
        "sensitivity = true_positives / (true_positives + false_negatives)\n",
        "specificity = true_negatives / (true_negatives + false_positives)\n",
        "\n",
        "# Calculate Root Mean Squared Error (RMSE) and Mean Absolute Error (MAE)\n",
        "rmse = mean_squared_error(y_test, predictions, squared=False)\n",
        "mae = mean_absolute_error(y_test, predictions)\n",
        "\n",
        "print(\"Accuracy:\", accuracy)\n",
        "print(\"Sensitivity:\", sensitivity)\n",
        "print(\"Specificity:\", specificity)\n",
        "print(\"Root Mean Squared Error (RMSE):\", rmse)\n",
        "print(\"Mean Absolute Error (MAE):\", mae)\n"
      ],
      "metadata": {
        "colab": {
          "base_uri": "https://localhost:8080/"
        },
        "id": "a-WeCTrp83AL",
        "outputId": "0e298f36-b943-4689-8f0f-d28ef861b093"
      },
      "execution_count": 18,
      "outputs": [
        {
          "output_type": "stream",
          "name": "stdout",
          "text": [
            "Accuracy: 0.9992857142857143\n",
            "Sensitivity: 0.9962825278810409\n",
            "Specificity: 1.0\n",
            "Root Mean Squared Error (RMSE): 0.02672612419124244\n",
            "Mean Absolute Error (MAE): 0.0007142857142857143\n"
          ]
        }
      ]
    },
    {
      "cell_type": "markdown",
      "source": [
        "### Ensemble Model"
      ],
      "metadata": {
        "id": "8CAAi1Eh_SBp"
      }
    },
    {
      "cell_type": "code",
      "source": [
        "from sklearn.ensemble import AdaBoostClassifier, VotingClassifier\n",
        "from sklearn.tree import DecisionTreeClassifier\n",
        "from sklearn.naive_bayes import GaussianNB\n",
        "from sklearn.ensemble import GradientBoostingClassifier\n",
        "from sklearn.model_selection import train_test_split\n",
        "from sklearn.metrics import accuracy_score, confusion_matrix, mean_squared_error, mean_absolute_error\n",
        "\n",
        "# Splitting data into features and target\n",
        "X = final_df_with_actual_names[selected_features]\n",
        "y = final_df_with_actual_names['label']\n",
        "\n",
        "# Splitting the data into train and test sets\n",
        "X_train, X_test, y_train, y_test = train_test_split(X, y, test_size=0.2, random_state=42)\n",
        "\n",
        "# Initialize individual classifiers\n",
        "ada_classifier = AdaBoostClassifier(base_estimator=DecisionTreeClassifier(max_depth=1), n_estimators=100, random_state=42)\n",
        "dt_classifier = DecisionTreeClassifier(max_depth=5, random_state=42)\n",
        "gnb_classifier = GaussianNB()\n",
        "gb_classifier = GradientBoostingClassifier(n_estimators=100, learning_rate=0.1, random_state=42)\n",
        "\n",
        "# Create a voting ensemble using the individual classifiers\n",
        "voting_classifier = VotingClassifier(\n",
        "    estimators=[\n",
        "        ('AdaBoost', ada_classifier),\n",
        "        ('DecisionTree', dt_classifier),\n",
        "        ('GaussianNB', gnb_classifier),\n",
        "        ('GradientBoosting', gb_classifier)\n",
        "    ],\n",
        "    voting='hard'  # 'hard' voting takes the majority of votes, 'soft' voting computes the argmax of the sums of predicted probabilities\n",
        ")\n",
        "\n",
        "# Train the voting ensemble\n",
        "voting_classifier.fit(X_train, y_train)\n",
        "\n",
        "# Predict using the trained voting ensemble\n",
        "predictions = voting_classifier.predict(X_test)\n",
        "\n",
        "# Calculate metrics\n",
        "accuracy = accuracy_score(y_test, predictions)\n",
        "conf_matrix = confusion_matrix(y_test, predictions)\n",
        "true_negatives, false_positives, false_negatives, true_positives = conf_matrix.ravel()\n",
        "sensitivity = true_positives / (true_positives + false_negatives)\n",
        "specificity = true_negatives / (true_negatives + false_positives)\n",
        "rmse = mean_squared_error(y_test, predictions, squared=False)\n",
        "mae = mean_absolute_error(y_test, predictions)\n",
        "\n",
        "print(\"Metrics for Voting Classifier:\")\n",
        "print(\"Accuracy:\", accuracy)\n",
        "print(\"Sensitivity:\", sensitivity)\n",
        "print(\"Specificity:\", specificity)\n",
        "print(\"Root Mean Squared Error (RMSE):\", rmse)\n",
        "print(\"Mean Absolute Error (MAE):\", mae)\n"
      ],
      "metadata": {
        "colab": {
          "base_uri": "https://localhost:8080/"
        },
        "id": "kKIfukCy9W8c",
        "outputId": "6f31a818-36de-4635-c279-21404f9f4927"
      },
      "execution_count": 19,
      "outputs": [
        {
          "output_type": "stream",
          "name": "stderr",
          "text": [
            "/usr/local/lib/python3.10/dist-packages/sklearn/ensemble/_base.py:166: FutureWarning: `base_estimator` was renamed to `estimator` in version 1.2 and will be removed in 1.4.\n",
            "  warnings.warn(\n"
          ]
        },
        {
          "output_type": "stream",
          "name": "stdout",
          "text": [
            "Metrics for Voting Classifier:\n",
            "Accuracy: 0.9985714285714286\n",
            "Sensitivity: 0.9925650557620818\n",
            "Specificity: 1.0\n",
            "Root Mean Squared Error (RMSE): 0.03779644730092272\n",
            "Mean Absolute Error (MAE): 0.0014285714285714286\n"
          ]
        }
      ]
    },
    {
      "cell_type": "markdown",
      "source": [
        "### Confusion Matrix"
      ],
      "metadata": {
        "id": "z9re5Sbs__HQ"
      }
    },
    {
      "cell_type": "code",
      "source": [
        "import matplotlib.pyplot as plt\n",
        "import seaborn as sns\n",
        "# Calculate confusion matrix\n",
        "conf_matrix = confusion_matrix(y_test, predictions)\n",
        "\n",
        "# Plotting confusion matrix\n",
        "plt.figure(figsize=(8, 6))\n",
        "sns.heatmap(conf_matrix, annot=True, fmt='d', cmap='Blues', cbar=False)\n",
        "plt.title('Confusion Matrix')\n",
        "plt.xlabel('Predicted')\n",
        "plt.ylabel('Actual')\n",
        "plt.show()"
      ],
      "metadata": {
        "colab": {
          "base_uri": "https://localhost:8080/",
          "height": 564
        },
        "id": "BBBy7fkn-Ufa",
        "outputId": "a6f8e54d-87ba-4360-eef5-85d7b3d9fdee"
      },
      "execution_count": 20,
      "outputs": [
        {
          "output_type": "display_data",
          "data": {
            "text/plain": [
              "<Figure size 800x600 with 1 Axes>"
            ],
            "image/png": "[encoded data removed]"
          },
          "metadata": {}
        }
      ]
    },
    {
      "cell_type": "code",
      "source": [],
      "metadata": {
        "id": "JnUmxTDk_Pg9"
      },
      "execution_count": 20,
      "outputs": []
    }
  ]
}